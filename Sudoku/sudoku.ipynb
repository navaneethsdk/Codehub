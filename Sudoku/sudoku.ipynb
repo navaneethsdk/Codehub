{
 "metadata": {
  "language_info": {
   "codemirror_mode": {
    "name": "ipython",
    "version": 3
   },
   "file_extension": ".py",
   "mimetype": "text/x-python",
   "name": "python",
   "nbconvert_exporter": "python",
   "pygments_lexer": "ipython3",
   "version": "3.8.2-final"
  },
  "orig_nbformat": 2,
  "kernelspec": {
   "name": "python38264bitkpmg2ef6f7a309d14d8da34b7113a1183c8c",
   "display_name": "Python 3.8.2 64-bit ('KPMG')",
   "language": "python"
  }
 },
 "nbformat": 4,
 "nbformat_minor": 2,
 "cells": [
  {
   "cell_type": "code",
   "execution_count": 1,
   "metadata": {},
   "outputs": [],
   "source": [
    "import numpy as np"
   ]
  },
  {
   "cell_type": "code",
   "execution_count": 2,
   "metadata": {},
   "outputs": [],
   "source": [
    "\n",
    "puzzle = np.array([\n",
    "    [5,3,0, 0,7,0, 0,0,0],\n",
    "    [6,0,0, 1,9,5, 0,0,0],\n",
    "    [0,9,8, 0,0,0, 0,6,0],\n",
    "\n",
    "    [8,0,0, 0,6,0, 0,0,3],\n",
    "    [4,0,0, 8,0,3, 0,0,1],\n",
    "    [7,0,0, 0,2,0, 0,0,6],\n",
    "\n",
    "    [0,6,0, 0,0,0, 2,8,0],\n",
    "    [0,0,0, 4,1,9, 0,0,5],\n",
    "    [0,0,0, 0,8,0, 0,7,9]\n",
    "])"
   ]
  },
  {
   "cell_type": "code",
   "execution_count": null,
   "metadata": {},
   "outputs": [],
   "source": [
    "puzzle = np.array([\n",
    "    [0,0,0, 0,0,0, 0,0,0],\n",
    "    [0,0,0, 0,0,0, 0,0,0],\n",
    "    [0,0,0, 0,0,0, 0,0,0],\n",
    "\n",
    "    [0,0,0, 0,0,0, 0,0,0],\n",
    "    [0,0,0, 0,0,0, 0,0,0],\n",
    "    [0,0,0, 0,0,0, 0,0,0],\n",
    "\n",
    "    [0,0,0, 0,0,0, 0,0,0],\n",
    "    [0,0,0, 0,0,0, 0,0,0],\n",
    "    [0,0,0, 0,8,0, 0,0,0]\n",
    "])"
   ]
  },
  {
   "cell_type": "code",
   "execution_count": 4,
   "metadata": {},
   "outputs": [],
   "source": [
    "def isPossible(y,x,n):\n",
    "    global puzzle\n",
    "    for i in range(9):\n",
    "        if puzzle[y,i] == n:\n",
    "            return False\n",
    "    for i in range(9):\n",
    "        if puzzle[i,x] == n:\n",
    "            return False\n",
    "    x0 = (x//3)*3\n",
    "    y0 = (y//3)*3\n",
    "    for i in range(3):\n",
    "        for j in range(3):\n",
    "            if puzzle[y0+i,x0+j] == n:\n",
    "                return False\n",
    "    return True\n"
   ]
  },
  {
   "source": [
    "def solve():\n",
    "    global puzzle\n",
    "    for i in range(9):\n",
    "        for j in range(9):\n",
    "            if puzzle[i,j] == 0:\n",
    "                for k in range(1,10):\n",
    "                    if isPossible(i,j,k):\n",
    "                        puzzle[i,j] = k\n",
    "                        solve()\n",
    "                        puzzle[i,j] = 0\n",
    "                return \n",
    "    print(puzzle)        \n",
    "\n",
    "solve()\n",
    "# print(puzzle)        \n"
   ],
   "cell_type": "code",
   "metadata": {},
   "execution_count": 5,
   "outputs": [
    {
     "output_type": "stream",
     "name": "stdout",
     "text": [
      "[[5 3 4 6 7 8 9 1 2]\n [6 7 2 1 9 5 3 4 8]\n [1 9 8 3 4 2 5 6 7]\n [8 5 9 7 6 1 4 2 3]\n [4 2 6 8 5 3 7 9 1]\n [7 1 3 9 2 4 8 5 6]\n [9 6 1 5 3 7 2 8 4]\n [2 8 7 4 1 9 6 3 5]\n [3 4 5 2 8 6 1 7 9]]\n"
     ]
    }
   ]
  },
  {
   "cell_type": "code",
   "execution_count": null,
   "metadata": {},
   "outputs": [],
   "source": []
  }
 ]
}